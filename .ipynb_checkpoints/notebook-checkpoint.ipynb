{
 "cells": [
  {
   "cell_type": "markdown",
   "id": "4e848894",
   "metadata": {},
   "source": [
    "Fork of https://gist.github.com/flatline/838202\n",
    "- Modified EightClass implementation, added initialization with given initial state\n",
    "- Added Hamming heurisic implementation\n",
    "- Added function to check solvability"
   ]
  },
  {
   "cell_type": "code",
   "execution_count": 1,
   "id": "b1e23687",
   "metadata": {},
   "outputs": [],
   "source": [
    "from puzzle import h_manhattan, h_hamming, is_solvable, EightPuzzle"
   ]
  },
  {
   "cell_type": "code",
   "execution_count": 2,
   "id": "cf971eb5",
   "metadata": {},
   "outputs": [],
   "source": [
    "import time, timeit, tracemalloc"
   ]
  },
  {
   "cell_type": "markdown",
   "id": "565df69f",
   "metadata": {},
   "source": [
    "# Solvability\n",
    "\n",
    "Some description, time complexity etc."
   ]
  },
  {
   "cell_type": "markdown",
   "id": "8e708020",
   "metadata": {},
   "source": [
    "## Unsolvable"
   ]
  },
  {
   "cell_type": "code",
   "execution_count": 3,
   "id": "55acef80",
   "metadata": {},
   "outputs": [
    {
     "name": "stdout",
     "output_type": "stream",
     "text": [
      "Solveable? False\n",
      "time 0.00011491775512695312\n"
     ]
    }
   ],
   "source": [
    "initial_state = [\n",
    "    [8, 1, 2],\n",
    "    [0, 4, 3],\n",
    "    [7, 6, 5]\n",
    "]\n",
    "start = time.time()\n",
    "clock_start = timeit.default_timer()\n",
    "is_solvable(initial_state)\n",
    "elapsed_time = time.time() - start\n",
    "elapsed_clock = timeit.default_timer() - clock_start\n",
    "print(\"Solveable?\", is_solvable(initial_state))\n",
    "print(\"time\", elapsed_time)"
   ]
  },
  {
   "cell_type": "code",
   "execution_count": 4,
   "id": "3e112f69-f40a-4d51-84e0-e2e052eee820",
   "metadata": {},
   "outputs": [
    {
     "name": "stdout",
     "output_type": "stream",
     "text": [
      "Solveable? False\n",
      "time 9.703636169433594e-05\n"
     ]
    }
   ],
   "source": [
    "initial_state = [\n",
    "    [8, 1, 6],\n",
    "    [0, 4, 5],\n",
    "    [7, 2, 3]\n",
    "]\n",
    "start = time.time()\n",
    "clock_start = timeit.default_timer()\n",
    "is_solvable(initial_state)\n",
    "elapsed_time = time.time() - start\n",
    "elapsed_clock = timeit.default_timer() - clock_start\n",
    "print(\"Solveable?\", is_solvable(initial_state))\n",
    "print(\"time\", elapsed_time)"
   ]
  },
  {
   "cell_type": "code",
   "execution_count": 5,
   "id": "f32ecdb8-7bf5-4d66-bf5f-4f63b289d4f4",
   "metadata": {},
   "outputs": [
    {
     "name": "stdout",
     "output_type": "stream",
     "text": [
      "Solveable? False\n",
      "time 9.489059448242188e-05\n"
     ]
    }
   ],
   "source": [
    "initial_state = [\n",
    "    [2, 1, 6],\n",
    "    [0, 4, 5],\n",
    "    [7, 3, 8]\n",
    "]\n",
    "start = time.time()\n",
    "clock_start = timeit.default_timer()\n",
    "is_solvable(initial_state)\n",
    "elapsed_time = time.time() - start\n",
    "elapsed_clock = timeit.default_timer() - clock_start\n",
    "print(\"Solveable?\", is_solvable(initial_state))\n",
    "print(\"time\", elapsed_time)"
   ]
  },
  {
   "cell_type": "code",
   "execution_count": 6,
   "id": "4e8c4ff0-ee7e-4a74-a37b-e42f6dcd2c86",
   "metadata": {},
   "outputs": [
    {
     "name": "stdout",
     "output_type": "stream",
     "text": [
      "Solveable? False\n",
      "time 9.608268737792969e-05\n"
     ]
    }
   ],
   "source": [
    "initial_state = [\n",
    "    [6, 5, 4],\n",
    "    [0, 8, 7],\n",
    "    [1, 2, 3]\n",
    "]\n",
    "start = time.time()\n",
    "clock_start = timeit.default_timer()\n",
    "is_solvable(initial_state)\n",
    "elapsed_time = time.time() - start\n",
    "elapsed_clock = timeit.default_timer() - clock_start\n",
    "print(\"Solveable?\", is_solvable(initial_state))\n",
    "print(\"time\", elapsed_time)"
   ]
  },
  {
   "cell_type": "markdown",
   "id": "c6b3d501",
   "metadata": {},
   "source": [
    "## Solvable"
   ]
  },
  {
   "cell_type": "code",
   "execution_count": 7,
   "id": "19d0ccc2",
   "metadata": {},
   "outputs": [
    {
     "name": "stdout",
     "output_type": "stream",
     "text": [
      "Solveable? True\n",
      "time 0.00010800361633300781\n"
     ]
    }
   ],
   "source": [
    "initial_state = [\n",
    "    [1, 8, 2],\n",
    "    [0, 4, 3],\n",
    "    [7, 6, 5]\n",
    "]\n",
    "start = time.time()\n",
    "clock_start = timeit.default_timer()\n",
    "is_solvable(initial_state)\n",
    "elapsed_time = time.time() - start\n",
    "elapsed_clock = timeit.default_timer() - clock_start\n",
    "print(\"Solveable?\", is_solvable(initial_state))\n",
    "print(\"time\", elapsed_time)"
   ]
  },
  {
   "cell_type": "code",
   "execution_count": 8,
   "id": "54484e79-418a-474a-b8ca-f7d4e6cfa2b2",
   "metadata": {},
   "outputs": [
    {
     "name": "stdout",
     "output_type": "stream",
     "text": [
      "Solveable? True\n",
      "time 9.298324584960938e-05\n"
     ]
    }
   ],
   "source": [
    "initial_state = [\n",
    "    [1, 8, 2],\n",
    "    [0, 6, 3],\n",
    "    [5, 4, 7]\n",
    "]\n",
    "start = time.time()\n",
    "clock_start = timeit.default_timer()\n",
    "is_solvable(initial_state)\n",
    "elapsed_time = time.time() - start\n",
    "elapsed_clock = timeit.default_timer() - clock_start\n",
    "print(\"Solveable?\", is_solvable(initial_state))\n",
    "print(\"time\", elapsed_time)"
   ]
  },
  {
   "cell_type": "code",
   "execution_count": 9,
   "id": "271ca0b8-3d14-4a3e-81ce-660de8a3ed96",
   "metadata": {},
   "outputs": [
    {
     "name": "stdout",
     "output_type": "stream",
     "text": [
      "Solveable? True\n",
      "time 0.00011229515075683594\n"
     ]
    }
   ],
   "source": [
    "initial_state = [\n",
    "    [1, 4, 2],\n",
    "    [0, 6, 5],\n",
    "    [3, 8, 7]\n",
    "]\n",
    "start = time.time()\n",
    "clock_start = timeit.default_timer()\n",
    "is_solvable(initial_state)\n",
    "elapsed_time = time.time() - start\n",
    "elapsed_clock = timeit.default_timer() - clock_start\n",
    "print(\"Solveable?\", is_solvable(initial_state))\n",
    "print(\"time\", elapsed_time)"
   ]
  },
  {
   "cell_type": "code",
   "execution_count": 10,
   "id": "10888cdf-f916-40fb-9ccb-deee192cc839",
   "metadata": {},
   "outputs": [
    {
     "name": "stdout",
     "output_type": "stream",
     "text": [
      "Solveable? True\n",
      "time 9.417533874511719e-05\n"
     ]
    }
   ],
   "source": [
    "initial_state = [\n",
    "    [1, 6, 8],\n",
    "    [0, 4, 2],\n",
    "    [5, 3, 7]\n",
    "]\n",
    "start = time.time()\n",
    "clock_start = timeit.default_timer()\n",
    "is_solvable(initial_state)\n",
    "elapsed_time = time.time() - start\n",
    "elapsed_clock = timeit.default_timer() - clock_start\n",
    "print(\"Solveable?\", is_solvable(initial_state))\n",
    "print(\"time\", elapsed_time)"
   ]
  },
  {
   "cell_type": "markdown",
   "id": "98401860",
   "metadata": {},
   "source": [
    "# Heuristics"
   ]
  },
  {
   "cell_type": "code",
   "execution_count": 16,
   "id": "d82df048",
   "metadata": {},
   "outputs": [],
   "source": [
    "results_manhattan = []\n",
    "def results_print_manhattan():\n",
    "    for result in results_manhattan:\n",
    "        print(result[0])\n",
    "        print(result[1])\n",
    "        print(\"TIME\", result[2]) \n",
    "        print(\"CPU\", result[3])\n",
    "        print(\"Current Memory usage\", result[4])\n",
    "        print(\"Peak Memory usage\", result[5], \"\\n\")# rozbic na wiecej printów"
   ]
  },
  {
   "cell_type": "code",
   "execution_count": 17,
   "id": "777433c3-9807-4295-8ec9-fb001cf74d94",
   "metadata": {},
   "outputs": [],
   "source": [
    "results_hamming = []\n",
    "def results_print_hamming():\n",
    "    for result in results_hamming:\n",
    "        print(result[0])\n",
    "        print(result[1])\n",
    "        print(\"TIME\", result[2]) \n",
    "        print(\"CPU\", result[3])\n",
    "        print(\"Current Memory usage\", result[4])\n",
    "        print(\"Peak Memory usage\", result[5], \"\\n\")# rozbic na wiecej printów"
   ]
  },
  {
   "cell_type": "markdown",
   "id": "742a864c",
   "metadata": {},
   "source": [
    "## Manhattan"
   ]
  },
  {
   "cell_type": "code",
   "execution_count": 18,
   "id": "3fe5561c",
   "metadata": {},
   "outputs": [
    {
     "name": "stdout",
     "output_type": "stream",
     "text": [
      "Current memory usage is 0.000832MB; Peak was 0.003088MB\n",
      "Solved with  <function h_manhattan at 0x105391710> :  5 states time 0.00025177001953125\n"
     ]
    }
   ],
   "source": [
    "initial_state = [\n",
    "    [1, 5, 2],\n",
    "    [4, 0, 3],\n",
    "    [7, 8, 6]\n",
    "]\n",
    "\n",
    "solvable = is_solvable(initial_state)\n",
    "if solvable:\n",
    "    p = EightPuzzle(initial_state)\n",
    "    \n",
    "    start = time.time()\n",
    "    clock_start = timeit.default_timer()\n",
    "    path, count = p.solve(h_manhattan)\n",
    "    elapsed_time = time.time() - start\n",
    "    elapsed_clock = timeit.default_timer() - clock_start\n",
    "    \n",
    "    tracemalloc.start()\n",
    "    path, count = p.solve(h_manhattan)\n",
    "    current, peak = tracemalloc.get_traced_memory()\n",
    "    current_calc = current / 10**6\n",
    "    peak_calc = peak / 10**6\n",
    "    \n",
    "    print(f\"Current memory usage is {current / 10**6}MB; Peak was {peak_calc}MB\")    \n",
    "    print(\"Solved with \", h_manhattan, ': ', count, \"states\", \"time\", elapsed_time)\n",
    "    \n",
    "    results_manhattan.append((\"Mannhattan\", p, elapsed_time, elapsed_clock, current_calc, peak_calc))\n",
    "    tracemalloc.stop()\n"
   ]
  },
  {
   "cell_type": "code",
   "execution_count": 19,
   "id": "09cb84b1",
   "metadata": {},
   "outputs": [
    {
     "name": "stdout",
     "output_type": "stream",
     "text": [
      "Mannhattan\n",
      "1 5 2\n",
      "4 0 3\n",
      "7 8 6\n",
      "\n",
      "TIME 0.00025177001953125\n",
      "CPU 0.0002510950000029766\n",
      "Current Memory usage 0.000832\n",
      "Peak Memory usage 0.003088 \n",
      "\n"
     ]
    }
   ],
   "source": [
    "results_print_manhattan()"
   ]
  },
  {
   "cell_type": "markdown",
   "id": "1fcde487",
   "metadata": {},
   "source": [
    "## Hamming"
   ]
  },
  {
   "cell_type": "code",
   "execution_count": 20,
   "id": "f481a758",
   "metadata": {},
   "outputs": [
    {
     "name": "stdout",
     "output_type": "stream",
     "text": [
      "Current memory usage is 0.000104MB; Peak was 0.000104MB\n",
      "Solved with  <function h_hamming at 0x105391830> :  16 states time 0.000720977783203125\n"
     ]
    }
   ],
   "source": [
    "initial_state = [\n",
    "    [1, 5, 2],\n",
    "    [4, 0, 3],\n",
    "    [7, 8, 6]\n",
    "]\n",
    "\n",
    "solvable = is_solvable(initial_state)\n",
    "if solvable:\n",
    "    p = EightPuzzle(initial_state)\n",
    "    start = time.time()\n",
    "    clock_start = timeit.default_timer()\n",
    "    path, count = p.solve(h_hamming)\n",
    "    elapsed_time = time.time() - start\n",
    "    elapsed_clock = timeit.default_timer() - clock_start\n",
    "    \n",
    "    tracemalloc.start()\n",
    "    p = EightPuzzle(initial_state)\n",
    "    current, peak = tracemalloc.get_traced_memory()\n",
    "    current_calc = current / 10**6\n",
    "    peak_calc = peak / 10**6\n",
    "    \n",
    "    print(f\"Current memory usage is {current / 10**6}MB; Peak was {peak_calc}MB\")  \n",
    "    print(\"Solved with \", h_hamming, ': ', count, \"states\", \"time\", elapsed_time)\n",
    "    \n",
    "    results_hamming.append((\"Hamming\", p, elapsed_time, elapsed_clock, current_calc, peak_calc))\n",
    "    tracemalloc.stop()"
   ]
  },
  {
   "cell_type": "code",
   "execution_count": 21,
   "id": "3285d7b2",
   "metadata": {},
   "outputs": [
    {
     "name": "stdout",
     "output_type": "stream",
     "text": [
      "Hamming\n",
      "1 5 2\n",
      "4 0 3\n",
      "7 8 6\n",
      "\n",
      "TIME 0.000720977783203125\n",
      "CPU 0.0007202729999988833\n",
      "Current Memory usage 0.000104\n",
      "Peak Memory usage 0.000104 \n",
      "\n"
     ]
    }
   ],
   "source": [
    "results_print_hamming()"
   ]
  },
  {
   "cell_type": "markdown",
   "id": "89ac136b",
   "metadata": {},
   "source": [
    "## Comparsion"
   ]
  },
  {
   "cell_type": "code",
   "execution_count": null,
   "id": "498241b9",
   "metadata": {},
   "outputs": [],
   "source": []
  },
  {
   "cell_type": "markdown",
   "id": "fe8057de",
   "metadata": {},
   "source": [
    "## Summary"
   ]
  },
  {
   "cell_type": "code",
   "execution_count": null,
   "id": "8a420653",
   "metadata": {},
   "outputs": [],
   "source": []
  }
 ],
 "metadata": {
  "kernelspec": {
   "display_name": "Python 3",
   "language": "python",
   "name": "python3"
  },
  "language_info": {
   "codemirror_mode": {
    "name": "ipython",
    "version": 3
   },
   "file_extension": ".py",
   "mimetype": "text/x-python",
   "name": "python",
   "nbconvert_exporter": "python",
   "pygments_lexer": "ipython3",
   "version": "3.7.6"
  },
  "metadata": {
   "interpreter": {
    "hash": "eea906ec1e66d80226bc7f7e7a73001ab829c9f617a6481cbd8a7ff6fbc3df54"
   }
  }
 },
 "nbformat": 4,
 "nbformat_minor": 5
}
