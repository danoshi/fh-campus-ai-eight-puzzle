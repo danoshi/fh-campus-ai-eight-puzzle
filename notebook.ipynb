{
 "cells": [
  {
   "cell_type": "markdown",
   "id": "4e848894",
   "metadata": {},
   "source": [
    "- Algorithm a_star and hamming heurisic from https://gist.github.com/flatline/838202 customized to our implementation"
   ]
  },
  {
   "cell_type": "code",
   "execution_count": 4,
   "id": "b1e23687",
   "metadata": {},
   "outputs": [],
   "source": [
    "from puzzle import Puzzle\n",
    "from heuristic import h_manhattan, h_hamming\n",
    "from algorithm import a_star, is_solvable"
   ]
  },
  {
   "cell_type": "code",
   "execution_count": 5,
   "id": "cf971eb5",
   "metadata": {},
   "outputs": [],
   "source": [
    "import time, timeit, tracemalloc\n",
    "import numpy as np\n",
    "import pandas as pd\n",
    "import matplotlib.pyplot as plt"
   ]
  },
  {
   "cell_type": "markdown",
   "id": "565df69f",
   "metadata": {},
   "source": [
    "# Solvability\n",
    "\n",
    "- The most important aspect about solving the 8 puzzle is the question, can the puzzle be solved at all?\n",
    "- This can be checked via the number of inversion.\n",
    "- If the number of inversions is odd in the input state the puzzle is not solvable.\n",
    "- If the number of inversions is even in the input state the puzzle is solveable.\n",
    "- Moreover the time how long the puzzle take to finish can be calculated with nlog(n)"
   ]
  },
  {
   "cell_type": "markdown",
   "id": "8e708020",
   "metadata": {},
   "source": [
    "## Unsolvable"
   ]
  },
  {
   "cell_type": "code",
   "execution_count": 6,
   "id": "55acef80",
   "metadata": {},
   "outputs": [
    {
     "name": "stdout",
     "output_type": "stream",
     "text": [
      "Solveable? False\n"
     ]
    }
   ],
   "source": [
    "initial_state = [\n",
    "    [8, 1, 2],\n",
    "    [0, 4, 3],\n",
    "    [7, 6, 5]\n",
    "]\n",
    "is_solvable(initial_state)\n",
    "print(\"Solveable?\", is_solvable(initial_state))\n"
   ]
  },
  {
   "cell_type": "markdown",
   "id": "e8d8c7d4",
   "metadata": {},
   "source": [
    "|   |   |   |\n",
    "|---|---|---|\n",
    "| 8 | 1 | 2 |\n",
    "| 0 | 4 | 3 |\n",
    "| 7 | 6 | 5 |"
   ]
  },
  {
   "cell_type": "code",
   "execution_count": 8,
   "id": "3e112f69-f40a-4d51-84e0-e2e052eee820",
   "metadata": {},
   "outputs": [
    {
     "name": "stdout",
     "output_type": "stream",
     "text": [
      "Solveable? False\n"
     ]
    }
   ],
   "source": [
    "initial_state = [\n",
    "    [8, 1, 6],\n",
    "    [0, 4, 5],\n",
    "    [7, 2, 3]\n",
    "]\n",
    "is_solvable(initial_state)\n",
    "print(\"Solveable?\", is_solvable(initial_state))"
   ]
  },
  {
   "cell_type": "markdown",
   "id": "878951e2",
   "metadata": {},
   "source": [
    "|   |   |   |\n",
    "|---|---|---|\n",
    "| 8 | 1 | 6 |\n",
    "| 0 | 4 | 5 |\n",
    "| 7 | 2 | 3 |"
   ]
  },
  {
   "cell_type": "code",
   "execution_count": 9,
   "id": "f32ecdb8-7bf5-4d66-bf5f-4f63b289d4f4",
   "metadata": {},
   "outputs": [
    {
     "name": "stdout",
     "output_type": "stream",
     "text": [
      "Solveable? False\n"
     ]
    }
   ],
   "source": [
    "initial_state = [\n",
    "    [2, 1, 6],\n",
    "    [0, 4, 5],\n",
    "    [7, 3, 8]\n",
    "]\n",
    "is_solvable(initial_state)\n",
    "print(\"Solveable?\", is_solvable(initial_state))"
   ]
  },
  {
   "cell_type": "markdown",
   "id": "23b44613",
   "metadata": {},
   "source": [
    "|   |   |   |\n",
    "|---|---|---|\n",
    "| 2 | 1 | 6 |\n",
    "| 0 | 4 | 5 |\n",
    "| 7 | 3 | 8 |"
   ]
  },
  {
   "cell_type": "code",
   "execution_count": 10,
   "id": "4e8c4ff0-ee7e-4a74-a37b-e42f6dcd2c86",
   "metadata": {},
   "outputs": [
    {
     "name": "stdout",
     "output_type": "stream",
     "text": [
      "Solveable? False\n"
     ]
    }
   ],
   "source": [
    "initial_state = [\n",
    "    [6, 5, 4],\n",
    "    [0, 8, 7],\n",
    "    [1, 2, 3]\n",
    "]\n",
    "is_solvable(initial_state)\n",
    "print(\"Solveable?\", is_solvable(initial_state))"
   ]
  },
  {
   "cell_type": "markdown",
   "id": "677ccb0f",
   "metadata": {},
   "source": [
    "|   |   |   |\n",
    "|---|---|---|\n",
    "| 6 | 5 | 4 |\n",
    "| 0 | 8 | 7 |\n",
    "| 1 | 2 | 3 |"
   ]
  },
  {
   "cell_type": "markdown",
   "id": "c6b3d501",
   "metadata": {},
   "source": [
    "## Solvable"
   ]
  },
  {
   "cell_type": "code",
   "execution_count": 11,
   "id": "19d0ccc2",
   "metadata": {},
   "outputs": [
    {
     "name": "stdout",
     "output_type": "stream",
     "text": [
      "Solveable? True\n"
     ]
    }
   ],
   "source": [
    "initial_state = [\n",
    "    [1, 8, 2],\n",
    "    [0, 4, 3],\n",
    "    [7, 6, 5]\n",
    "]\n",
    "is_solvable(initial_state)\n",
    "print(\"Solveable?\", is_solvable(initial_state))"
   ]
  },
  {
   "cell_type": "markdown",
   "id": "6335b766",
   "metadata": {},
   "source": [
    "|   |   |   |\n",
    "|---|---|---|\n",
    "| 1 | 8 | 2 |\n",
    "| 0 | 4 | 3 |\n",
    "| 7 | 6 | 5 |"
   ]
  },
  {
   "cell_type": "code",
   "execution_count": 12,
   "id": "54484e79-418a-474a-b8ca-f7d4e6cfa2b2",
   "metadata": {},
   "outputs": [
    {
     "name": "stdout",
     "output_type": "stream",
     "text": [
      "Solveable? True\n"
     ]
    }
   ],
   "source": [
    "initial_state = [\n",
    "    [1, 8, 2],\n",
    "    [0, 6, 3],\n",
    "    [5, 4, 7]\n",
    "]\n",
    "is_solvable(initial_state)\n",
    "print(\"Solveable?\", is_solvable(initial_state))"
   ]
  },
  {
   "cell_type": "markdown",
   "id": "0e9f9ce0",
   "metadata": {},
   "source": [
    "|   |   |   |\n",
    "|---|---|---|\n",
    "| 1 | 8 | 2 |\n",
    "| 0 | 6 | 3 |\n",
    "| 5 | 4 | 7 |"
   ]
  },
  {
   "cell_type": "code",
   "execution_count": 13,
   "id": "271ca0b8-3d14-4a3e-81ce-660de8a3ed96",
   "metadata": {},
   "outputs": [
    {
     "name": "stdout",
     "output_type": "stream",
     "text": [
      "Solveable? True\n"
     ]
    }
   ],
   "source": [
    "initial_state = [\n",
    "    [1, 4, 2],\n",
    "    [0, 6, 5],\n",
    "    [3, 8, 7]\n",
    "]\n",
    "is_solvable(initial_state)\n",
    "print(\"Solveable?\", is_solvable(initial_state))"
   ]
  },
  {
   "cell_type": "markdown",
   "id": "452d72f8",
   "metadata": {},
   "source": [
    "|   |   |   |\n",
    "|---|---|---|\n",
    "| 1 | 4 | 2 |\n",
    "| 0 | 6 | 5 |\n",
    "| 3 | 8 | 7 |"
   ]
  },
  {
   "cell_type": "code",
   "execution_count": 14,
   "id": "10888cdf-f916-40fb-9ccb-deee192cc839",
   "metadata": {},
   "outputs": [
    {
     "name": "stdout",
     "output_type": "stream",
     "text": [
      "Solveable? True\n"
     ]
    }
   ],
   "source": [
    "initial_state = [\n",
    "    [1, 6, 8],\n",
    "    [0, 4, 2],\n",
    "    [5, 3, 7]\n",
    "]\n",
    "is_solvable(initial_state)\n",
    "print(\"Solveable?\", is_solvable(initial_state))"
   ]
  },
  {
   "cell_type": "markdown",
   "id": "2a742de1",
   "metadata": {},
   "source": [
    "|   |   |   |\n",
    "|---|---|---|\n",
    "| 1 | 6 | 8 |\n",
    "| 0 | 4 | 2 |\n",
    "| 5 | 3 | 7 |"
   ]
  },
  {
   "cell_type": "markdown",
   "id": "98401860",
   "metadata": {},
   "source": [
    "# Heuristics"
   ]
  },
  {
   "cell_type": "code",
   "execution_count": 15,
   "id": "d82df048",
   "metadata": {},
   "outputs": [],
   "source": [
    "results_manhattan = []\n",
    "\n",
    "def results_print_manhattan():\n",
    "    for result in results_manhattan:\n",
    "        print(\"Time in ms\", result['time'])\n",
    "        print(\"CPU\", result[\"cpu_time\"]) \n",
    "        print(\"Memory in kb\", result[\"memory\"])\n",
    "        print(\"Peak Memory in kb\", result[\"peek_memory\"])\n",
    "        print(\"Steps to solve the puzzle\", result[\"steps_to_solve\"], \"\\n\")\n",
    "        \n",
    "def add_to_manhattan_results(initial_s, time, cpu_time, memory, peek_memory, count):\n",
    "    results_manhattan.append({\n",
    "        'time': time,\n",
    "        \"cpu_time\": cpu_time,\n",
    "        \"memory\": memory,\n",
    "        \"peek_memory\": peek_memory,\n",
    "        \"steps_to_solve\": count\n",
    "    })"
   ]
  },
  {
   "cell_type": "code",
   "execution_count": 20,
   "id": "777433c3-9807-4295-8ec9-fb001cf74d94",
   "metadata": {},
   "outputs": [],
   "source": [
    "results_hamming = []\n",
    "def results_print_hamming():\n",
    "    for result in results_hamming:\n",
    "        print(\"Time in ms\", result['time'])\n",
    "        print(\"CPU\", result[\"cpu_time\"]) \n",
    "        print(\"Memory in kb\", result[\"memory\"])\n",
    "        print(\"Peak Memory in kb\", result[\"peek_memory\"])\n",
    "        print(\"Steps to solve the puzzle\", result[\"steps_to_solve\"], \"\\n\")\n",
    "        \n",
    "def add_to_hamming_results(initial_s, time, cpu_time, memory, peek_memory, count):\n",
    "    results_hamming.append({\n",
    "        'time': time,\n",
    "        \"cpu_time\": cpu_time,\n",
    "        \"memory\": memory,\n",
    "        \"peek_memory\": peek_memory,\n",
    "        \"steps_to_solve\": count\n",
    "    })"
   ]
  },
  {
   "cell_type": "markdown",
   "id": "742a864c",
   "metadata": {},
   "source": [
    "## Manhattan"
   ]
  },
  {
   "cell_type": "code",
   "execution_count": 17,
   "id": "3fe5561c",
   "metadata": {},
   "outputs": [
    {
     "name": "stdout",
     "output_type": "stream",
     "text": [
      "Current memory usage is 0.048KB; Peak was 3.056KB\n",
      "Solved with  <function h_manhattan at 0x0000013D0F08D840> :  5 states time 0.0 ms\n"
     ]
    }
   ],
   "source": [
    "initial_state = [\n",
    "    [1, 5, 2],\n",
    "    [4, 0, 3],\n",
    "    [7, 8, 6]\n",
    "]\n",
    "memory_manhattan = []\n",
    "time_manhatttan = []\n",
    "cpu_manhatttan = []\n",
    "solve_manhatttan = []\n",
    "solvable = is_solvable(initial_state)\n",
    "if solvable:\n",
    "    p = Puzzle(initial_state)\n",
    "    \n",
    "    start = time.time()\n",
    "    clock_start = timeit.default_timer()\n",
    "    count = a_star(p, h_manhattan)\n",
    "    elapsed_time = time.time() - start\n",
    "    elapsed_clock = timeit.default_timer() - clock_start\n",
    "    \n",
    "    tracemalloc.start()\n",
    "    count = a_star(p, h_manhattan)\n",
    "    current, peak = tracemalloc.get_traced_memory()\n",
    "    current_calc = current / 10**3\n",
    "    peak_calc = peak / 10**3\n",
    "    \n",
    "    print(f\"Current memory usage is {current_calc}KB; Peak was {peak_calc}KB\")    \n",
    "    print(\"Solved with \", h_manhattan, ': ', count, \"states\", \"time\", elapsed_time,\"ms\")\n",
    "    \n",
    "    add_to_manhattan_results(p, elapsed_time, elapsed_clock, current_calc, peak_calc, count)\n",
    "    memory_manhattan.append(current_calc)\n",
    "    time_manhatttan.append(elapsed_time)\n",
    "    cpu_manhatttan.append(elapsed_clock)\n",
    "    solve_manhatttan.append(count)\n",
    "    tracemalloc.stop()\n"
   ]
  },
  {
   "cell_type": "code",
   "execution_count": 18,
   "id": "86bb17a7",
   "metadata": {},
   "outputs": [
    {
     "name": "stdout",
     "output_type": "stream",
     "text": [
      "Time in ms 0.0\n",
      "CPU 0.0003337\n",
      "Memory in kb 0.048\n",
      "Peak Memory in kb 3.056\n",
      "Steps to solve the puzzle 5 \n",
      "\n"
     ]
    }
   ],
   "source": [
    "results_print_manhattan()"
   ]
  },
  {
   "cell_type": "markdown",
   "id": "1fcde487",
   "metadata": {},
   "source": [
    "## Hamming"
   ]
  },
  {
   "cell_type": "code",
   "execution_count": 21,
   "id": "f481a758",
   "metadata": {},
   "outputs": [
    {
     "name": "stdout",
     "output_type": "stream",
     "text": [
      "Current memory usage is 0.096KB; Peak was 0.096KB\n",
      "Solved with  <function h_hamming at 0x0000013D0F08D8C8> :  16 states time 0.99945068359375 ms\n"
     ]
    }
   ],
   "source": [
    "initial_state = [\n",
    "    [1, 5, 2],\n",
    "    [4, 0, 3],\n",
    "    [7, 8, 6]\n",
    "]\n",
    "memory_hamming = []\n",
    "time_hamming = []\n",
    "cpu_hamming = []\n",
    "solve_hamming = []\n",
    "solvable = is_solvable(initial_state)\n",
    "if solvable:\n",
    "    p = Puzzle(initial_state)\n",
    "    start = time.time()\n",
    "    clock_start = timeit.default_timer()\n",
    "    count = a_star(p, h_hamming)\n",
    "    elapsed_time = (time.time() - start)*1000\n",
    "    elapsed_clock = timeit.default_timer() - clock_start\n",
    "    \n",
    "    tracemalloc.start()\n",
    "    p = Puzzle(initial_state)\n",
    "    current, peak = tracemalloc.get_traced_memory()\n",
    "    current_calc = current / 10**3\n",
    "    peak_calc = peak / 10**3\n",
    "    \n",
    "    print(f\"Current memory usage is {current_calc}KB; Peak was {peak_calc}KB\")  \n",
    "    print(\"Solved with \", h_hamming, ': ', count, \"states\", \"time\", elapsed_time,\"ms\")\n",
    "    \n",
    "    add_to_hamming_results(p, elapsed_time, elapsed_clock, current_calc, peak_calc, count)\n",
    "    memory_hamming.append(current_calc)\n",
    "    time_hamming.append(elapsed_time)\n",
    "    cpu_hamming.append(elapsed_clock)\n",
    "    solve_hamming.append(count)\n",
    "    tracemalloc.stop()"
   ]
  },
  {
   "cell_type": "code",
   "execution_count": 22,
   "id": "3285d7b2",
   "metadata": {},
   "outputs": [
    {
     "name": "stdout",
     "output_type": "stream",
     "text": [
      "Time in ms 0.99945068359375\n",
      "CPU 0.0016490000000004557\n",
      "Memory in kb 0.096\n",
      "Peak Memory in kb 0.096\n",
      "Steps to solve the puzzle 16 \n",
      "\n"
     ]
    }
   ],
   "source": [
    "results_print_hamming()"
   ]
  },
  {
   "cell_type": "markdown",
   "id": "89ac136b",
   "metadata": {},
   "source": [
    "## Comparsion"
   ]
  },
  {
   "cell_type": "code",
   "execution_count": 27,
   "id": "498241b9",
   "metadata": {},
   "outputs": [
    {
     "name": "stdout",
     "output_type": "stream",
     "text": [
      "   time  cpu_time  memory  peek_memory  steps_to_solve\n",
      "0   0.0  0.000334   0.048        3.056               5 \n",
      "\n",
      "       time  cpu_time  memory  peek_memory  steps_to_solve\n",
      "0  0.999451  0.001649   0.096        0.096              16\n"
     ]
    }
   ],
   "source": [
    "df_manhattan = pd.DataFrame(results_manhattan)\n",
    "df_hamming = pd.DataFrame(results_hamming)\n",
    "print(df_manhattan, \"\\n\")\n",
    "print(df_hamming)\n"
   ]
  },
  {
   "cell_type": "markdown",
   "id": "4ec2c2c7",
   "metadata": {},
   "source": [
    "|   |   |   |\n",
    "|---|---|---|\n",
    "| 1 | 5 | 2 |\n",
    "| 4 | 0 | 3 |\n",
    "| 7 | 8 | 6 | "
   ]
  },
  {
   "cell_type": "code",
   "execution_count": 28,
   "id": "906c5ba6",
   "metadata": {},
   "outputs": [
    {
     "data": {
      "image/png": "[encoded data removed]",
      "text/plain": [
       "<Figure size 432x288 with 1 Axes>"
      ]
     },
     "metadata": {
      "needs_background": "light"
     },
     "output_type": "display_data"
    }
   ],
   "source": [
    "df = pd.DataFrame({'heuristic':['Manhattan', 'Hamming'], 'memory':[memory_manhattan[0], memory_hamming[0]]})\n",
    "ax = df.plot.bar(x='heuristic', y='memory', rot=0)"
   ]
  },
  {
   "cell_type": "code",
   "execution_count": 29,
   "id": "ad7a3aaf",
   "metadata": {},
   "outputs": [
    {
     "data": {
      "image/png": "[encoded data removed]",
      "text/plain": [
       "<Figure size 432x288 with 1 Axes>"
      ]
     },
     "metadata": {
      "needs_background": "light"
     },
     "output_type": "display_data"
    }
   ],
   "source": [
    "df = pd.DataFrame({'heuristic':['Manhattan', 'Hamming'], 'time':[time_manhatttan[0], time_hamming[0]]})\n",
    "ax = df.plot.bar(x='heuristic', y='time', rot=0)"
   ]
  },
  {
   "cell_type": "code",
   "execution_count": 30,
   "id": "36dded70",
   "metadata": {
    "scrolled": true
   },
   "outputs": [
    {
     "data": {
      "image/png": "[encoded data removed]",
      "text/plain": [
       "<Figure size 432x288 with 1 Axes>"
      ]
     },
     "metadata": {
      "needs_background": "light"
     },
     "output_type": "display_data"
    }
   ],
   "source": [
    "df = pd.DataFrame({'heuristic':['Manhattan', 'Hamming'], 'Cpu':[cpu_manhatttan[0], cpu_hamming[0]]})\n",
    "ax = df.plot.bar(x='heuristic', y='Cpu', rot=0)"
   ]
  },
  {
   "cell_type": "code",
   "execution_count": 31,
   "id": "61146914",
   "metadata": {},
   "outputs": [
    {
     "data": {
      "image/png": "[encoded data removed]",
      "text/plain": [
       "<Figure size 432x288 with 1 Axes>"
      ]
     },
     "metadata": {
      "needs_background": "light"
     },
     "output_type": "display_data"
    }
   ],
   "source": [
    "df = pd.DataFrame({'heuristic':['Manhattan', 'Hamming'], 'Steps':[solve_manhatttan[0], solve_hamming[0]]})\n",
    "ax = df.plot.bar(x='heuristic', y='Steps', rot=0)"
   ]
  },
  {
   "cell_type": "markdown",
   "id": "fe8057de",
   "metadata": {},
   "source": [
    "## Summary"
   ]
  },
  {
   "cell_type": "markdown",
   "id": "c5c14098",
   "metadata": {},
   "source": [
    "- As you can see in the plot the manhattan heuristic needs less steps than the hamming heuristic \n",
    "- Moreover the memory consumption for manhattan is also less in comparison with the hamming heuistic \n",
    "- The Cpu process the manhattan heuristic also much faster\n",
    "- All in all it can be said that the manhattan heuristic is the prefered way in terms of memory usage, cpu usage, time needed to solve the puzzle and also less steps are needed"
   ]
  }
 ],
 "metadata": {
  "kernelspec": {
   "display_name": "Python 3",
   "language": "python",
   "name": "python3"
  },
  "language_info": {
   "codemirror_mode": {
    "name": "ipython",
    "version": 3
   },
   "file_extension": ".py",
   "mimetype": "text/x-python",
   "name": "python",
   "nbconvert_exporter": "python",
   "pygments_lexer": "ipython3",
   "version": "3.6.2"
  },
  "metadata": {
   "interpreter": {
    "hash": "eea906ec1e66d80226bc7f7e7a73001ab829c9f617a6481cbd8a7ff6fbc3df54"
   }
  }
 },
 "nbformat": 4,
 "nbformat_minor": 5
}