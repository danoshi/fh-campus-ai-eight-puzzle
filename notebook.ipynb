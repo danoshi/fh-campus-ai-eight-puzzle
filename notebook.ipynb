{
 "cells": [
  {
   "cell_type": "markdown",
   "id": "4e848894",
   "metadata": {},
   "source": [
    "Fork of https://gist.github.com/flatline/838202\n",
    "- Modified EightClass implementation, added initialization with given initial state\n",
    "- Added Hamming heurisic implementation\n",
    "- Added function to check solvability"
   ]
  },
  {
   "cell_type": "code",
   "execution_count": 3,
   "id": "b1e23687",
   "metadata": {},
   "outputs": [],
   "source": [
    "from puzzle import h_manhattan, h_hamming, is_solvable, EightPuzzle"
   ]
  },
  {
   "cell_type": "code",
   "execution_count": 6,
   "id": "cf971eb5",
   "metadata": {},
   "outputs": [],
   "source": [
    "import time, timeit"
   ]
  },
  {
   "cell_type": "markdown",
   "id": "565df69f",
   "metadata": {},
   "source": [
    "# Solvability\n",
    "\n",
    "Some description, time complexity etc."
   ]
  },
  {
   "cell_type": "markdown",
   "id": "8e708020",
   "metadata": {},
   "source": [
    "## Unsolvable"
   ]
  },
  {
   "cell_type": "code",
   "execution_count": 4,
   "id": "55acef80",
   "metadata": {},
   "outputs": [
    {
     "data": {
      "text/plain": [
       "False"
      ]
     },
     "execution_count": 4,
     "metadata": {},
     "output_type": "execute_result"
    }
   ],
   "source": [
    "# TODO: time to check if it is solvable when its not \n",
    "initial_state = [\n",
    "    [8, 1, 2],\n",
    "    [0, 4, 3],\n",
    "    [7, 6, 5]\n",
    "]\n",
    "is_solvable(initial_state)"
   ]
  },
  {
   "cell_type": "markdown",
   "id": "c6b3d501",
   "metadata": {},
   "source": [
    "## Solvable"
   ]
  },
  {
   "cell_type": "code",
   "execution_count": null,
   "id": "19d0ccc2",
   "metadata": {},
   "outputs": [],
   "source": [
    "# like above "
   ]
  },
  {
   "cell_type": "markdown",
   "id": "98401860",
   "metadata": {},
   "source": [
    "# Heuristics"
   ]
  },
  {
   "cell_type": "code",
   "execution_count": 8,
   "id": "d82df048",
   "metadata": {},
   "outputs": [],
   "source": [
    "results = []\n",
    "def results_print():\n",
    "    for result in results:\n",
    "        print(result[0], '\\n', result[1], \"TIME\", result[2], \"CPU\", result[3]) # rozbic na wiecej printów"
   ]
  },
  {
   "cell_type": "markdown",
   "id": "742a864c",
   "metadata": {},
   "source": [
    "## Manhattan"
   ]
  },
  {
   "cell_type": "code",
   "execution_count": 9,
   "id": "3fe5561c",
   "metadata": {},
   "outputs": [
    {
     "name": "stdout",
     "output_type": "stream",
     "text": [
      "Solved with  <function h_manhattan at 0x0000027A079D2E18> :  5 states time 0.0\n"
     ]
    }
   ],
   "source": [
    "initial_state = [\n",
    "    [1, 5, 2],\n",
    "    [4, 0, 3],\n",
    "    [7, 8, 6]\n",
    "]\n",
    "\n",
    "solvable = is_solvable(initial_state)\n",
    "if solvable:\n",
    "    p = EightPuzzle(initial_state)\n",
    "    start = time.time()\n",
    "    clock_start = timeit.default_timer()\n",
    "    path, count = p.solve(h_manhattan)\n",
    "    elapsed_time = time.time() - start\n",
    "    elapsed_clock = timeit.default_timer() - clock_start\n",
    "    print(\"Solved with \", h_manhattan, ': ', count, \"states\", \"time\", elapsed_time)\n",
    "    results.append((\"Mannhattan\", p, elapsed_time, elapsed_clock))"
   ]
  },
  {
   "cell_type": "code",
   "execution_count": 10,
   "id": "09cb84b1",
   "metadata": {},
   "outputs": [
    {
     "name": "stdout",
     "output_type": "stream",
     "text": [
      "Mannhattan \n",
      " 1 5 2\r\n",
      "4 0 3\r\n",
      "7 8 6\r\n",
      " TIME 0.0 CPU 0.00020459999999999923\n"
     ]
    }
   ],
   "source": [
    "results_print()"
   ]
  },
  {
   "cell_type": "markdown",
   "id": "1fcde487",
   "metadata": {},
   "source": [
    "## Hamming"
   ]
  },
  {
   "cell_type": "code",
   "execution_count": 11,
   "id": "f481a758",
   "metadata": {},
   "outputs": [
    {
     "name": "stdout",
     "output_type": "stream",
     "text": [
      "Solved with  <function h_hamming at 0x0000027A079D2840> :  16 states time 0.0\n"
     ]
    }
   ],
   "source": [
    "initial_state = [\n",
    "    [1, 5, 2],\n",
    "    [4, 0, 3],\n",
    "    [7, 8, 6]\n",
    "]\n",
    "\n",
    "solvable = is_solvable(initial_state)\n",
    "if solvable:\n",
    "    p = EightPuzzle(initial_state)\n",
    "    start = time.time()\n",
    "    clock_start = timeit.default_timer()\n",
    "    path, count = p.solve(h_hamming)\n",
    "    elapsed_time = time.time() - start\n",
    "    elapsed_clock = timeit.default_timer() - clock_start\n",
    "    print(\"Solved with \", h_hamming, ': ', count, \"states\", \"time\", elapsed_time)\n",
    "    results.append((\"Hamming\", p, elapsed_time, elapsed_clock))"
   ]
  },
  {
   "cell_type": "code",
   "execution_count": 12,
   "id": "3285d7b2",
   "metadata": {},
   "outputs": [
    {
     "name": "stdout",
     "output_type": "stream",
     "text": [
      "Mannhattan \n",
      " 1 5 2\r\n",
      "4 0 3\r\n",
      "7 8 6\r\n",
      " TIME 0.0 CPU 0.00020459999999999923\n",
      "Hamming \n",
      " 1 5 2\r\n",
      "4 0 3\r\n",
      "7 8 6\r\n",
      " TIME 0.0 CPU 0.0006327000000005967\n"
     ]
    }
   ],
   "source": [
    "results_print()"
   ]
  },
  {
   "cell_type": "markdown",
   "id": "89ac136b",
   "metadata": {},
   "source": [
    "## Comparsion"
   ]
  },
  {
   "cell_type": "code",
   "execution_count": null,
   "id": "498241b9",
   "metadata": {},
   "outputs": [],
   "source": []
  },
  {
   "cell_type": "markdown",
   "id": "fe8057de",
   "metadata": {},
   "source": [
    "## Summary"
   ]
  },
  {
   "cell_type": "code",
   "execution_count": null,
   "id": "8a420653",
   "metadata": {},
   "outputs": [],
   "source": []
  }
 ],
 "metadata": {
  "kernelspec": {
   "display_name": "Python 3",
   "language": "python",
   "name": "python3"
  },
  "language_info": {
   "codemirror_mode": {
    "name": "ipython",
    "version": 3
   },
   "file_extension": ".py",
   "mimetype": "text/x-python",
   "name": "python",
   "nbconvert_exporter": "python",
   "pygments_lexer": "ipython3",
   "version": "3.6.2"
  },
  "metadata": {
   "interpreter": {
    "hash": "eea906ec1e66d80226bc7f7e7a73001ab829c9f617a6481cbd8a7ff6fbc3df54"
   }
  }
 },
 "nbformat": 4,
 "nbformat_minor": 5
}
